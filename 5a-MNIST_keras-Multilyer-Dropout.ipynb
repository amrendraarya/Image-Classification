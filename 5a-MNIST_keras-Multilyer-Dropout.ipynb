{
 "cells": [
  {
   "cell_type": "code",
   "execution_count": 1,
   "metadata": {},
   "outputs": [],
   "source": [
    "import pandas as pd\n",
    "import numpy as np\n",
    "import matplotlib.pyplot as plt\n",
    "%matplotlib inline\n",
    "import tensorflow as tf\n",
    "\n",
    "from sklearn.metrics import confusion_matrix\n",
    "from sklearn.metrics import accuracy_score\n",
    "mnist=tf.keras.datasets.mnist"
   ]
  },
  {
   "cell_type": "code",
   "execution_count": 10,
   "metadata": {},
   "outputs": [],
   "source": [
    "#Import keras libraires\n",
    "from keras.models import Sequential\n",
    "from keras.layers import Flatten\n",
    "from keras.layers import Dense\n",
    "from keras.layers import Dropout"
   ]
  },
  {
   "cell_type": "code",
   "execution_count": 3,
   "metadata": {},
   "outputs": [],
   "source": [
    "(x_train,y_train),(x_test,y_test)=mnist.load_data()\n",
    "x_train,x_test=x_train/255.0,x_test/255.0"
   ]
  },
  {
   "cell_type": "code",
   "execution_count": 4,
   "metadata": {},
   "outputs": [],
   "source": [
    "#x_test[10]"
   ]
  },
  {
   "cell_type": "code",
   "execution_count": 5,
   "metadata": {},
   "outputs": [],
   "source": [
    "#y_train"
   ]
  },
  {
   "cell_type": "code",
   "execution_count": 6,
   "metadata": {},
   "outputs": [],
   "source": [
    "# Instanting the model\n",
    "mymodel=Sequential()"
   ]
  },
  {
   "cell_type": "code",
   "execution_count": 7,
   "metadata": {},
   "outputs": [],
   "source": [
    "mymodel.add(Flatten(input_shape=(28,28)))"
   ]
  },
  {
   "cell_type": "code",
   "execution_count": 11,
   "metadata": {},
   "outputs": [],
   "source": [
    "mymodel.add(Dense(units=200,activation='relu'))\n",
    "mymodel.add(Dense(units=100,activation='relu'))\n",
    "mymodel.add(Dropout(.25))\n",
    "mymodel.add(Dense(units=60,activation='relu'))\n",
    "mymodel.add(Dense(units=30,activation='relu'))"
   ]
  },
  {
   "cell_type": "code",
   "execution_count": 12,
   "metadata": {},
   "outputs": [],
   "source": [
    "mymodel.add(Dense(units=10,activation='softmax'))"
   ]
  },
  {
   "cell_type": "code",
   "execution_count": 13,
   "metadata": {},
   "outputs": [],
   "source": [
    "mymodel.compile(optimizer='adam',loss='sparse_categorical_crossentropy',metrics=['accuracy'])"
   ]
  },
  {
   "cell_type": "code",
   "execution_count": 14,
   "metadata": {},
   "outputs": [
    {
     "name": "stdout",
     "output_type": "stream",
     "text": [
      "Model: \"sequential_1\"\n",
      "_________________________________________________________________\n",
      "Layer (type)                 Output Shape              Param #   \n",
      "=================================================================\n",
      "flatten_1 (Flatten)          (None, 784)               0         \n",
      "_________________________________________________________________\n",
      "dense_1 (Dense)              (None, 200)               157000    \n",
      "_________________________________________________________________\n",
      "dense_2 (Dense)              (None, 100)               20100     \n",
      "_________________________________________________________________\n",
      "dense_3 (Dense)              (None, 200)               20200     \n",
      "_________________________________________________________________\n",
      "dense_4 (Dense)              (None, 100)               20100     \n",
      "_________________________________________________________________\n",
      "dropout_1 (Dropout)          (None, 100)               0         \n",
      "_________________________________________________________________\n",
      "dense_5 (Dense)              (None, 60)                6060      \n",
      "_________________________________________________________________\n",
      "dense_6 (Dense)              (None, 30)                1830      \n",
      "_________________________________________________________________\n",
      "dense_7 (Dense)              (None, 10)                310       \n",
      "=================================================================\n",
      "Total params: 225,600\n",
      "Trainable params: 225,600\n",
      "Non-trainable params: 0\n",
      "_________________________________________________________________\n"
     ]
    }
   ],
   "source": [
    "mymodel.summary()"
   ]
  },
  {
   "cell_type": "code",
   "execution_count": 15,
   "metadata": {},
   "outputs": [
    {
     "name": "stdout",
     "output_type": "stream",
     "text": [
      "WARNING:tensorflow:From C:\\Users\\Abhi\\Anaconda3\\envs\\tf1\\lib\\site-packages\\keras\\backend\\tensorflow_backend.py:422: The name tf.global_variables is deprecated. Please use tf.compat.v1.global_variables instead.\n",
      "\n",
      "Epoch 1/20\n",
      "60000/60000 [==============================] - 35s 585us/step - loss: 0.2940 - accuracy: 0.9122\n",
      "Epoch 2/20\n",
      "60000/60000 [==============================] - 31s 515us/step - loss: 0.1233 - accuracy: 0.9657s - loss:\n",
      "Epoch 3/20\n",
      "60000/60000 [==============================] - 30s 500us/step - loss: 0.0930 - accuracy: 0.9745\n",
      "Epoch 4/20\n",
      "60000/60000 [==============================] - 30s 505us/step - loss: 0.0767 - accuracy: 0.9791\n",
      "Epoch 5/20\n",
      "60000/60000 [==============================] - 30s 503us/step - loss: 0.0638 - accuracy: 0.9829\n",
      "Epoch 6/20\n",
      "60000/60000 [==============================] - 27s 445us/step - loss: 0.0510 - accuracy: 0.9856\n",
      "Epoch 7/20\n",
      "60000/60000 [==============================] - 17s 283us/step - loss: 0.0494 - accuracy: 0.9861\n",
      "Epoch 8/20\n",
      "60000/60000 [==============================] - 17s 275us/step - loss: 0.0407 - accuracy: 0.9884\n",
      "Epoch 9/20\n",
      "60000/60000 [==============================] - 16s 275us/step - loss: 0.0349 - accuracy: 0.9901\n",
      "Epoch 10/20\n",
      "60000/60000 [==============================] - 16s 272us/step - loss: 0.0324 - accuracy: 0.9909\n",
      "Epoch 11/20\n",
      "60000/60000 [==============================] - 16s 272us/step - loss: 0.0299 - accuracy: 0.9915\n",
      "Epoch 12/20\n",
      "60000/60000 [==============================] - 16s 270us/step - loss: 0.0270 - accuracy: 0.9929\n",
      "Epoch 13/20\n",
      "60000/60000 [==============================] - 16s 273us/step - loss: 0.0263 - accuracy: 0.9928\n",
      "Epoch 14/20\n",
      "60000/60000 [==============================] - 16s 271us/step - loss: 0.0243 - accuracy: 0.9934\n",
      "Epoch 15/20\n",
      "60000/60000 [==============================] - 17s 286us/step - loss: 0.0217 - accuracy: 0.9943\n",
      "Epoch 16/20\n",
      "60000/60000 [==============================] - 17s 275us/step - loss: 0.0224 - accuracy: 0.9940\n",
      "Epoch 17/20\n",
      "60000/60000 [==============================] - 16s 271us/step - loss: 0.0167 - accuracy: 0.9954\n",
      "Epoch 18/20\n",
      "60000/60000 [==============================] - 16s 268us/step - loss: 0.0197 - accuracy: 0.9951\n",
      "Epoch 19/20\n",
      "60000/60000 [==============================] - 16s 273us/step - loss: 0.0200 - accuracy: 0.9952\n",
      "Epoch 20/20\n",
      "60000/60000 [==============================] - 16s 271us/step - loss: 0.0194 - accuracy: 0.9948\n"
     ]
    },
    {
     "data": {
      "text/plain": [
       "<keras.callbacks.callbacks.History at 0x26b20c48588>"
      ]
     },
     "execution_count": 15,
     "metadata": {},
     "output_type": "execute_result"
    }
   ],
   "source": [
    "mymodel.fit(x_train,y_train,epochs=20)"
   ]
  },
  {
   "cell_type": "code",
   "execution_count": 16,
   "metadata": {},
   "outputs": [
    {
     "name": "stdout",
     "output_type": "stream",
     "text": [
      "10000/10000 [==============================] - 1s 116us/step\n"
     ]
    },
    {
     "data": {
      "text/plain": [
       "[0.12709445656960774, 0.9803000092506409]"
      ]
     },
     "execution_count": 16,
     "metadata": {},
     "output_type": "execute_result"
    }
   ],
   "source": [
    "mymodel.evaluate(x_test,y_test)"
   ]
  },
  {
   "cell_type": "code",
   "execution_count": null,
   "metadata": {},
   "outputs": [],
   "source": []
  },
  {
   "cell_type": "code",
   "execution_count": null,
   "metadata": {},
   "outputs": [],
   "source": []
  }
 ],
 "metadata": {
  "kernelspec": {
   "display_name": "Python 3",
   "language": "python",
   "name": "python3"
  },
  "language_info": {
   "codemirror_mode": {
    "name": "ipython",
    "version": 3
   },
   "file_extension": ".py",
   "mimetype": "text/x-python",
   "name": "python",
   "nbconvert_exporter": "python",
   "pygments_lexer": "ipython3",
   "version": "3.7.6"
  }
 },
 "nbformat": 4,
 "nbformat_minor": 2
}
