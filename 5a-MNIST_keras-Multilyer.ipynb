{
 "cells": [
  {
   "cell_type": "code",
   "execution_count": 1,
   "metadata": {},
   "outputs": [],
   "source": [
    "import pandas as pd\n",
    "import numpy as np\n",
    "import matplotlib.pyplot as plt\n",
    "%matplotlib inline\n",
    "import tensorflow as tf\n",
    "\n",
    "from sklearn.metrics import confusion_matrix\n",
    "from sklearn.metrics import accuracy_score\n",
    "mnist=tf.keras.datasets.mnist"
   ]
  },
  {
   "cell_type": "code",
   "execution_count": 2,
   "metadata": {},
   "outputs": [
    {
     "name": "stderr",
     "output_type": "stream",
     "text": [
      "Using TensorFlow backend.\n"
     ]
    }
   ],
   "source": [
    "#Import keras libraires\n",
    "from keras.models import Sequential\n",
    "from keras.layers import Flatten\n",
    "from keras.layers import Dense"
   ]
  },
  {
   "cell_type": "code",
   "execution_count": 3,
   "metadata": {},
   "outputs": [],
   "source": [
    "(x_train,y_train),(x_test,y_test)=mnist.load_data()\n",
    "x_train,x_test=x_train/255.0,x_test/255.0"
   ]
  },
  {
   "cell_type": "code",
   "execution_count": 4,
   "metadata": {},
   "outputs": [],
   "source": [
    "#x_test[10]"
   ]
  },
  {
   "cell_type": "code",
   "execution_count": 5,
   "metadata": {},
   "outputs": [],
   "source": [
    "#y_train"
   ]
  },
  {
   "cell_type": "code",
   "execution_count": 20,
   "metadata": {},
   "outputs": [],
   "source": [
    "# Instanting the model\n",
    "mymodel=Sequential()"
   ]
  },
  {
   "cell_type": "code",
   "execution_count": 21,
   "metadata": {},
   "outputs": [],
   "source": [
    "mymodel.add(Flatten(input_shape=(28,28)))"
   ]
  },
  {
   "cell_type": "code",
   "execution_count": 22,
   "metadata": {},
   "outputs": [],
   "source": [
    "mymodel.add(Dense(units=200,activation='relu'))\n",
    "mymodel.add(Dense(units=100,activation='relu'))\n",
    "mymodel.add(Dense(units=60,activation='relu'))\n",
    "mymodel.add(Dense(units=30,activation='relu'))"
   ]
  },
  {
   "cell_type": "code",
   "execution_count": 23,
   "metadata": {},
   "outputs": [],
   "source": [
    "mymodel.add(Dense(units=10,activation='softmax'))"
   ]
  },
  {
   "cell_type": "code",
   "execution_count": 24,
   "metadata": {},
   "outputs": [],
   "source": [
    "mymodel.compile(optimizer='adam',loss='sparse_categorical_crossentropy',metrics=['accuracy'])"
   ]
  },
  {
   "cell_type": "code",
   "execution_count": 25,
   "metadata": {},
   "outputs": [
    {
     "name": "stdout",
     "output_type": "stream",
     "text": [
      "Model: \"sequential_2\"\n",
      "_________________________________________________________________\n",
      "Layer (type)                 Output Shape              Param #   \n",
      "=================================================================\n",
      "flatten_3 (Flatten)          (None, 784)               0         \n",
      "_________________________________________________________________\n",
      "dense_6 (Dense)              (None, 200)               157000    \n",
      "_________________________________________________________________\n",
      "dense_7 (Dense)              (None, 100)               20100     \n",
      "_________________________________________________________________\n",
      "dense_8 (Dense)              (None, 60)                6060      \n",
      "_________________________________________________________________\n",
      "dense_9 (Dense)              (None, 30)                1830      \n",
      "_________________________________________________________________\n",
      "dense_10 (Dense)             (None, 10)                310       \n",
      "=================================================================\n",
      "Total params: 185,300\n",
      "Trainable params: 185,300\n",
      "Non-trainable params: 0\n",
      "_________________________________________________________________\n"
     ]
    }
   ],
   "source": [
    "mymodel.summary()"
   ]
  },
  {
   "cell_type": "code",
   "execution_count": 18,
   "metadata": {},
   "outputs": [
    {
     "name": "stdout",
     "output_type": "stream",
     "text": [
      "Epoch 1/20\n",
      "60000/60000 [==============================] - 14s 225us/step - loss: 0.0134 - accuracy: 0.9962\n",
      "Epoch 2/20\n",
      "60000/60000 [==============================] - 18s 301us/step - loss: 0.0137 - accuracy: 0.9961\n",
      "Epoch 3/20\n",
      "60000/60000 [==============================] - 13s 218us/step - loss: 0.0150 - accuracy: 0.9964\n",
      "Epoch 4/20\n",
      "60000/60000 [==============================] - 15s 256us/step - loss: 0.0145 - accuracy: 0.9966\n",
      "Epoch 5/20\n",
      "60000/60000 [==============================] - 17s 281us/step - loss: 0.0121 - accuracy: 0.9969\n",
      "Epoch 6/20\n",
      "60000/60000 [==============================] - 17s 277us/step - loss: 0.0123 - accuracy: 0.9966\n",
      "Epoch 7/20\n",
      "60000/60000 [==============================] - 14s 236us/step - loss: 0.0104 - accuracy: 0.9970\n",
      "Epoch 8/20\n",
      "60000/60000 [==============================] - 12s 203us/step - loss: 0.0134 - accuracy: 0.9963\n",
      "Epoch 9/20\n",
      "60000/60000 [==============================] - 12s 202us/step - loss: 0.0122 - accuracy: 0.9970\n",
      "Epoch 10/20\n",
      "60000/60000 [==============================] - 12s 200us/step - loss: 0.0092 - accuracy: 0.9976\n",
      "Epoch 11/20\n",
      "60000/60000 [==============================] - 15s 242us/step - loss: 0.0104 - accuracy: 0.9972\n",
      "Epoch 12/20\n",
      "60000/60000 [==============================] - 13s 210us/step - loss: 0.0110 - accuracy: 0.9972\n",
      "Epoch 13/20\n",
      "60000/60000 [==============================] - 13s 210us/step - loss: 0.0105 - accuracy: 0.9970\n",
      "Epoch 14/20\n",
      "60000/60000 [==============================] - 23s 386us/step - loss: 0.0071 - accuracy: 0.9981\n",
      "Epoch 15/20\n",
      "60000/60000 [==============================] - 26s 430us/step - loss: 0.0095 - accuracy: 0.9976\n",
      "Epoch 16/20\n",
      "60000/60000 [==============================] - 26s 440us/step - loss: 0.0094 - accuracy: 0.9978\n",
      "Epoch 17/20\n",
      "60000/60000 [==============================] - 26s 425us/step - loss: 0.0087 - accuracy: 0.9977\n",
      "Epoch 18/20\n",
      "60000/60000 [==============================] - 26s 431us/step - loss: 0.0115 - accuracy: 0.9969\n",
      "Epoch 19/20\n",
      "60000/60000 [==============================] - 26s 435us/step - loss: 0.0073 - accuracy: 0.9982\n",
      "Epoch 20/20\n",
      "60000/60000 [==============================] - 26s 436us/step - loss: 0.0096 - accuracy: 0.9978\n"
     ]
    },
    {
     "data": {
      "text/plain": [
       "<keras.callbacks.callbacks.History at 0x1e8b7c1bf88>"
      ]
     },
     "execution_count": 18,
     "metadata": {},
     "output_type": "execute_result"
    }
   ],
   "source": [
    "mymodel.fit(x_train,y_train,epochs=20)"
   ]
  },
  {
   "cell_type": "code",
   "execution_count": 19,
   "metadata": {},
   "outputs": [
    {
     "name": "stdout",
     "output_type": "stream",
     "text": [
      "10000/10000 [==============================] - 1s 149us/step\n"
     ]
    },
    {
     "data": {
      "text/plain": [
       "[0.17964867102962023, 0.9760000109672546]"
      ]
     },
     "execution_count": 19,
     "metadata": {},
     "output_type": "execute_result"
    }
   ],
   "source": [
    "mymodel.evaluate(x_test,y_test)"
   ]
  },
  {
   "cell_type": "code",
   "execution_count": null,
   "metadata": {},
   "outputs": [],
   "source": []
  },
  {
   "cell_type": "code",
   "execution_count": null,
   "metadata": {},
   "outputs": [],
   "source": []
  }
 ],
 "metadata": {
  "kernelspec": {
   "display_name": "Python 3",
   "language": "python",
   "name": "python3"
  },
  "language_info": {
   "codemirror_mode": {
    "name": "ipython",
    "version": 3
   },
   "file_extension": ".py",
   "mimetype": "text/x-python",
   "name": "python",
   "nbconvert_exporter": "python",
   "pygments_lexer": "ipython3",
   "version": "3.7.6"
  }
 },
 "nbformat": 4,
 "nbformat_minor": 2
}
