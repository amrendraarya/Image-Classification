{
 "cells": [
  {
   "cell_type": "code",
   "execution_count": 1,
   "metadata": {},
   "outputs": [],
   "source": [
    "import pandas as pd\n",
    "import numpy as np\n",
    "import matplotlib.pyplot as plt\n",
    "%matplotlib inline\n",
    "import tensorflow as tf\n",
    "\n",
    "from sklearn.metrics import confusion_matrix\n",
    "from sklearn.metrics import accuracy_score\n",
    "mnist=tf.keras.datasets.mnist"
   ]
  },
  {
   "cell_type": "code",
   "execution_count": 2,
   "metadata": {},
   "outputs": [
    {
     "name": "stderr",
     "output_type": "stream",
     "text": [
      "Using TensorFlow backend.\n"
     ]
    }
   ],
   "source": [
    "#Import keras libraires\n",
    "from keras.models import Sequential\n",
    "from keras.layers import Flatten\n",
    "from keras.layers import Dense\n",
    "from keras.layers import Dropout"
   ]
  },
  {
   "cell_type": "code",
   "execution_count": 3,
   "metadata": {},
   "outputs": [],
   "source": [
    "(x_train,y_train),(x_test,y_test)=mnist.load_data()\n",
    "x_train,x_test=x_train/255.0,x_test/255.0"
   ]
  },
  {
   "cell_type": "code",
   "execution_count": 4,
   "metadata": {},
   "outputs": [],
   "source": [
    "#x_test[10]"
   ]
  },
  {
   "cell_type": "code",
   "execution_count": 5,
   "metadata": {},
   "outputs": [],
   "source": [
    "#y_train"
   ]
  },
  {
   "cell_type": "code",
   "execution_count": 6,
   "metadata": {},
   "outputs": [],
   "source": [
    "# Instanting the model\n",
    "mymodel=Sequential()"
   ]
  },
  {
   "cell_type": "code",
   "execution_count": 7,
   "metadata": {},
   "outputs": [],
   "source": [
    "mymodel.add(Flatten(input_shape=(28,28)))"
   ]
  },
  {
   "cell_type": "code",
   "execution_count": 8,
   "metadata": {},
   "outputs": [
    {
     "name": "stdout",
     "output_type": "stream",
     "text": [
      "WARNING:tensorflow:From C:\\Users\\Abhi\\Anaconda3\\envs\\tf1\\lib\\site-packages\\tensorflow_core\\python\\ops\\resource_variable_ops.py:1630: calling BaseResourceVariable.__init__ (from tensorflow.python.ops.resource_variable_ops) with constraint is deprecated and will be removed in a future version.\n",
      "Instructions for updating:\n",
      "If using Keras pass *_constraint arguments to layers.\n"
     ]
    }
   ],
   "source": [
    "mymodel.add(Dense(units=50,activation='relu'))\n",
    "mymodel.add(Dense(units=350,activation='relu'))\n",
    "mymodel.add(Dense(units=650,activation='relu'))"
   ]
  },
  {
   "cell_type": "code",
   "execution_count": 9,
   "metadata": {},
   "outputs": [],
   "source": [
    "mymodel.add(Dense(units=10,activation='softmax'))"
   ]
  },
  {
   "cell_type": "code",
   "execution_count": 10,
   "metadata": {},
   "outputs": [],
   "source": [
    "mymodel.compile(optimizer='adam',loss='sparse_categorical_crossentropy',metrics=['accuracy'])"
   ]
  },
  {
   "cell_type": "code",
   "execution_count": 11,
   "metadata": {},
   "outputs": [
    {
     "name": "stdout",
     "output_type": "stream",
     "text": [
      "Model: \"sequential_1\"\n",
      "_________________________________________________________________\n",
      "Layer (type)                 Output Shape              Param #   \n",
      "=================================================================\n",
      "flatten_1 (Flatten)          (None, 784)               0         \n",
      "_________________________________________________________________\n",
      "dense_1 (Dense)              (None, 50)                39250     \n",
      "_________________________________________________________________\n",
      "dense_2 (Dense)              (None, 350)               17850     \n",
      "_________________________________________________________________\n",
      "dense_3 (Dense)              (None, 650)               228150    \n",
      "_________________________________________________________________\n",
      "dense_4 (Dense)              (None, 10)                6510      \n",
      "=================================================================\n",
      "Total params: 291,760\n",
      "Trainable params: 291,760\n",
      "Non-trainable params: 0\n",
      "_________________________________________________________________\n"
     ]
    }
   ],
   "source": [
    "mymodel.summary()"
   ]
  },
  {
   "cell_type": "code",
   "execution_count": 12,
   "metadata": {},
   "outputs": [
    {
     "name": "stdout",
     "output_type": "stream",
     "text": [
      "WARNING:tensorflow:From C:\\Users\\Abhi\\Anaconda3\\envs\\tf1\\lib\\site-packages\\keras\\backend\\tensorflow_backend.py:422: The name tf.global_variables is deprecated. Please use tf.compat.v1.global_variables instead.\n",
      "\n",
      "Epoch 1/20\n",
      "60000/60000 [==============================] - 19s 311us/step - loss: 0.2436 - accuracy: 0.9258\n",
      "Epoch 2/20\n",
      "60000/60000 [==============================] - 16s 268us/step - loss: 0.1150 - accuracy: 0.9646\n",
      "Epoch 3/20\n",
      "60000/60000 [==============================] - 17s 279us/step - loss: 0.0858 - accuracy: 0.9730\n",
      "Epoch 4/20\n",
      "60000/60000 [==============================] - 15s 258us/step - loss: 0.0692 - accuracy: 0.9786\n",
      "Epoch 5/20\n",
      "60000/60000 [==============================] - 17s 285us/step - loss: 0.0596 - accuracy: 0.9807\n",
      "Epoch 6/20\n",
      "60000/60000 [==============================] - 15s 256us/step - loss: 0.0500 - accuracy: 0.9839\n",
      "Epoch 7/20\n",
      "60000/60000 [==============================] - 16s 259us/step - loss: 0.0459 - accuracy: 0.9850\n",
      "Epoch 8/20\n",
      "60000/60000 [==============================] - ETA: 0s - loss: 0.0375 - accuracy: 0.98 - 16s 264us/step - loss: 0.0376 - accuracy: 0.9881\n",
      "Epoch 9/20\n",
      "60000/60000 [==============================] - 15s 257us/step - loss: 0.0346 - accuracy: 0.9884\n",
      "Epoch 10/20\n",
      "60000/60000 [==============================] - 18s 304us/step - loss: 0.0323 - accuracy: 0.9899\n",
      "Epoch 11/20\n",
      "60000/60000 [==============================] - 16s 266us/step - loss: 0.0282 - accuracy: 0.9910\n",
      "Epoch 12/20\n",
      "60000/60000 [==============================] - 16s 261us/step - loss: 0.0292 - accuracy: 0.9908\n",
      "Epoch 13/20\n",
      "60000/60000 [==============================] - 16s 268us/step - loss: 0.0236 - accuracy: 0.9929\n",
      "Epoch 14/20\n",
      "60000/60000 [==============================] - 15s 254us/step - loss: 0.0262 - accuracy: 0.9915\n",
      "Epoch 15/20\n",
      "60000/60000 [==============================] - 15s 256us/step - loss: 0.0245 - accuracy: 0.9922\n",
      "Epoch 16/20\n",
      "60000/60000 [==============================] - 15s 256us/step - loss: 0.0229 - accuracy: 0.9930\n",
      "Epoch 17/20\n",
      "60000/60000 [==============================] - 16s 268us/step - loss: 0.0191 - accuracy: 0.9942\n",
      "Epoch 18/20\n",
      "60000/60000 [==============================] - 16s 272us/step - loss: 0.0242 - accuracy: 0.9934\n",
      "Epoch 19/20\n",
      "60000/60000 [==============================] - 18s 296us/step - loss: 0.0167 - accuracy: 0.9950\n",
      "Epoch 20/20\n",
      "60000/60000 [==============================] - 16s 274us/step - loss: 0.0218 - accuracy: 0.9943\n"
     ]
    },
    {
     "data": {
      "text/plain": [
       "<keras.callbacks.callbacks.History at 0x2a468298548>"
      ]
     },
     "execution_count": 12,
     "metadata": {},
     "output_type": "execute_result"
    }
   ],
   "source": [
    "mymodel.fit(x_train,y_train,epochs=20)"
   ]
  },
  {
   "cell_type": "code",
   "execution_count": 13,
   "metadata": {},
   "outputs": [
    {
     "name": "stdout",
     "output_type": "stream",
     "text": [
      "10000/10000 [==============================] - 1s 87us/step\n"
     ]
    },
    {
     "data": {
      "text/plain": [
       "[0.1213772718150226, 0.9778000116348267]"
      ]
     },
     "execution_count": 13,
     "metadata": {},
     "output_type": "execute_result"
    }
   ],
   "source": [
    "mymodel.evaluate(x_test,y_test)"
   ]
  },
  {
   "cell_type": "code",
   "execution_count": 14,
   "metadata": {},
   "outputs": [],
   "source": [
    "#infrence"
   ]
  },
  {
   "cell_type": "code",
   "execution_count": 15,
   "metadata": {},
   "outputs": [],
   "source": [
    "test_image=x_test[2516]"
   ]
  },
  {
   "cell_type": "code",
   "execution_count": 16,
   "metadata": {},
   "outputs": [],
   "source": [
    "test_image=test_image.reshape(1,28,28)"
   ]
  },
  {
   "cell_type": "code",
   "execution_count": 17,
   "metadata": {},
   "outputs": [],
   "source": [
    "result=mymodel.predict(test_image)"
   ]
  },
  {
   "cell_type": "code",
   "execution_count": 18,
   "metadata": {},
   "outputs": [
    {
     "data": {
      "text/plain": [
       "array([[5.67992724e-15, 3.40726117e-18, 1.27663834e-11, 2.30272734e-09,\n",
       "        2.66879102e-13, 2.13184776e-14, 8.54832110e-26, 5.49496559e-12,\n",
       "        6.71612432e-10, 1.00000000e+00]], dtype=float32)"
      ]
     },
     "execution_count": 18,
     "metadata": {},
     "output_type": "execute_result"
    }
   ],
   "source": [
    "result"
   ]
  },
  {
   "cell_type": "code",
   "execution_count": 19,
   "metadata": {},
   "outputs": [
    {
     "data": {
      "text/plain": [
       "9"
      ]
     },
     "execution_count": 19,
     "metadata": {},
     "output_type": "execute_result"
    }
   ],
   "source": [
    "result.argmax()"
   ]
  },
  {
   "cell_type": "code",
   "execution_count": 20,
   "metadata": {},
   "outputs": [
    {
     "data": {
      "text/plain": [
       "9"
      ]
     },
     "execution_count": 20,
     "metadata": {},
     "output_type": "execute_result"
    }
   ],
   "source": [
    "y_test[2516]"
   ]
  },
  {
   "cell_type": "code",
   "execution_count": null,
   "metadata": {},
   "outputs": [],
   "source": []
  }
 ],
 "metadata": {
  "kernelspec": {
   "display_name": "Python 3",
   "language": "python",
   "name": "python3"
  },
  "language_info": {
   "codemirror_mode": {
    "name": "ipython",
    "version": 3
   },
   "file_extension": ".py",
   "mimetype": "text/x-python",
   "name": "python",
   "nbconvert_exporter": "python",
   "pygments_lexer": "ipython3",
   "version": "3.7.6"
  }
 },
 "nbformat": 4,
 "nbformat_minor": 2
}
